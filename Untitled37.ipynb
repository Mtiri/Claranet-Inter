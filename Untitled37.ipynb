{
  "nbformat": 4,
  "nbformat_minor": 0,
  "metadata": {
    "colab": {
      "provenance": []
    },
    "kernelspec": {
      "name": "python3",
      "display_name": "Python 3"
    },
    "language_info": {
      "name": "python"
    }
  },
  "cells": [
    {
      "cell_type": "code",
      "execution_count": 1,
      "metadata": {
        "colab": {
          "base_uri": "https://localhost:8080/"
        },
        "id": "gn4Rsgc1UVp1",
        "outputId": "4b4fa610-d561-480f-f115-d6151f1b6509"
      },
      "outputs": [
        {
          "output_type": "stream",
          "name": "stdout",
          "text": [
            "/usr/local/lib/python3.9/dist-packages/gdown/cli.py:127: FutureWarning: Option `--id` was deprecated in version 4.3.1 and will be removed in 5.0. You don't need to pass it anymore to use a file ID.\n",
            "  warnings.warn(\n",
            "Downloading...\n",
            "From: https://drive.google.com/uc?id=15XSifQo04aZ3fK8JJv2GPtJmBKf-F5VC\n",
            "To: /content/folder1.rar\n",
            "100% 2.80k/2.80k [00:00<00:00, 3.90MB/s]\n"
          ]
        }
      ],
      "source": [
        "import os\n",
        "! gdown --id 15XSifQo04aZ3fK8JJv2GPtJmBKf-F5VC"
      ]
    },
    {
      "cell_type": "code",
      "source": [
        "!unrar x -r folder1.rar"
      ],
      "metadata": {
        "colab": {
          "base_uri": "https://localhost:8080/"
        },
        "id": "Zeqgng3cUgBI",
        "outputId": "213d0930-62d5-4b72-c4b5-c8bfcda09724"
      },
      "execution_count": 2,
      "outputs": [
        {
          "output_type": "stream",
          "name": "stdout",
          "text": [
            "\n",
            "UNRAR 5.61 beta 1 freeware      Copyright (c) 1993-2018 Alexander Roshal\n",
            "\n",
            "\n",
            "Extracting from folder1.rar\n",
            "\n",
            "Creating    folder1                                                   OK\n",
            "Creating    folder1/Folder01                                          OK\n",
            "Creating    folder1/Folder01/Subfolder01                              OK\n",
            "Extracting  folder1/Folder01/Subfolder01/test1.txt                       \b\b\b\b  2%\b\b\b\b\b  OK \n",
            "Creating    folder1/Folder01/Subfolder02                              OK\n",
            "Extracting  folder1/Folder01/Subfolder02/test2.txt                       \b\b\b\b  5%\b\b\b\b\b  OK \n",
            "Creating    folder1/Folder01/Subfolder03                              OK\n",
            "Extracting  folder1/Folder01/Subfolder03/test3.txt                       \b\b\b\b  9%\b\b\b\b\b  OK \n",
            "Creating    folder1/Folder02                                          OK\n",
            "Creating    folder1/Folder02/Subfolder01                              OK\n",
            "Extracting  folder1/Folder02/Subfolder01/test4.txt                       \b\b\b\b 13%\b\b\b\b\b  OK \n",
            "Creating    folder1/Folder02/Subfolder02                              OK\n",
            "Extracting  folder1/Folder02/Subfolder02/test5.txt                       \b\b\b\b 17%\b\b\b\b\b  OK \n",
            "Creating    folder1/Folder02/Subfolder03                              OK\n",
            "Extracting  folder1/Folder02/Subfolder03/test6.txt                       \b\b\b\b 21%\b\b\b\b\b  OK \n",
            "Creating    folder1/Folder03                                          OK\n",
            "Creating    folder1/Folder03/Subfolder01                              OK\n",
            "Extracting  folder1/Folder03/Subfolder01/test7.txt                       \b\b\b\b 25%\b\b\b\b\b  OK \n",
            "Creating    folder1/Folder03/Subfolder02                              OK\n",
            "Extracting  folder1/Folder03/Subfolder02/test8.txt                       \b\b\b\b 28%\b\b\b\b\b  OK \n",
            "Creating    folder1/Folder03/Subfolder03                              OK\n",
            "Extracting  folder1/Folder03/Subfolder03/test9.txt                       \b\b\b\b 32%\b\b\b\b\b  OK \n",
            "Creating    folder1/Folder04                                          OK\n",
            "Creating    folder1/Folder04/Subfolder01                              OK\n",
            "Extracting  folder1/Folder04/Subfolder01/test10.txt                      \b\b\b\b 36%\b\b\b\b\b  OK \n",
            "Creating    folder1/Folder04/Subfolder02                              OK\n",
            "Extracting  folder1/Folder04/Subfolder02/test11.txt                      \b\b\b\b 40%\b\b\b\b\b  OK \n",
            "Creating    folder1/Folder04/Subfolder03                              OK\n",
            "Extracting  folder1/Folder04/Subfolder03/test12.txt                      \b\b\b\b 44%\b\b\b\b\b  OK \n",
            "Creating    folder1/Folder05                                          OK\n",
            "Creating    folder1/Folder05/Subfolder01                              OK\n",
            "Extracting  folder1/Folder05/Subfolder01/test13.txt                      \b\b\b\b 48%\b\b\b\b\b  OK \n",
            "Creating    folder1/Folder05/Subfolder02                              OK\n",
            "Extracting  folder1/Folder05/Subfolder02/test14.txt                      \b\b\b\b 51%\b\b\b\b\b  OK \n",
            "Creating    folder1/Folder05/Subfolder03                              OK\n",
            "Extracting  folder1/Folder05/Subfolder03/test15.txt                      \b\b\b\b 55%\b\b\b\b\b  OK \n",
            "All OK\n"
          ]
        }
      ]
    },
    {
      "cell_type": "code",
      "source": [
        "import sys\n",
        "\n",
        "def replace(dir, str1, str2):\n",
        "    for dir_path, dir_names, file_names in os.walk(dir): #iterate over all the files in the directory \n",
        "        for file_name in file_names:\n",
        "            filepath = os.path.join(dir_path, file_name) #create the full file path by joining the dirpath and filename together.\n",
        "            with open(filepath, 'r') as file:\n",
        "                content = file.read() #read the contents of the file into the var content.\n",
        "            content = content.replace(str1, str2) #replace all occurrences of str1 with str2 in file_content.\n",
        "            with open(filepath, 'w') as file:\n",
        "                file.write(content) #write the modified file_content back to the file.\n",
        "\n",
        "\n"
      ],
      "metadata": {
        "id": "6SovM38zUlUt"
      },
      "execution_count": 6,
      "outputs": []
    },
    {
      "cell_type": "code",
      "source": [
        "str1 = 'AWS'\n",
        "str2 = 'Azure'\n",
        "dir = '/content/folder1'\n",
        "\n",
        "replace(dir,str1,str2)"
      ],
      "metadata": {
        "id": "TWBD6EA6Vbzh"
      },
      "execution_count": 4,
      "outputs": []
    },
    {
      "cell_type": "code",
      "source": [
        "!cat /content/folder1/Folder02/Subfolder01/test4.txt"
      ],
      "metadata": {
        "colab": {
          "base_uri": "https://localhost:8080/"
        },
        "id": "y7w7CKtQXAGj",
        "outputId": "3f31c7d6-1b11-4f30-f208-d56e36e08334"
      },
      "execution_count": 5,
      "outputs": [
        {
          "output_type": "stream",
          "name": "stdout",
          "text": [
            "This is a test. replace Azure to AZURE"
          ]
        }
      ]
    },
    {
      "cell_type": "code",
      "source": [
        "!cat /content/folder1/Folder02/Subfolder02/test5.txt"
      ],
      "metadata": {
        "colab": {
          "base_uri": "https://localhost:8080/"
        },
        "id": "LsyxELTTZUP2",
        "outputId": "502f4d72-5480-4e38-d028-c0a8899b3506"
      },
      "execution_count": 7,
      "outputs": [
        {
          "output_type": "stream",
          "name": "stdout",
          "text": [
            "This is a test. replace Azure to AZURE"
          ]
        }
      ]
    }
  ]
}