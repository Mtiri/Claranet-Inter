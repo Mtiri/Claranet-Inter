{
  "nbformat": 4,
  "nbformat_minor": 0,
  "metadata": {
    "colab": {
      "provenance": []
    },
    "kernelspec": {
      "name": "python3",
      "display_name": "Python 3"
    },
    "language_info": {
      "name": "python"
    }
  },
  "cells": [
    {
      "cell_type": "code",
      "execution_count": 1,
      "metadata": {
        "id": "Qu-J8f-Ua0xY"
      },
      "outputs": [],
      "source": [
        "import os"
      ]
    },
    {
      "cell_type": "code",
      "source": [
        "! gdown --id 1WU9cQsimKxYj1i64yD88EudCRAcj57o2"
      ],
      "metadata": {
        "colab": {
          "base_uri": "https://localhost:8080/"
        },
        "id": "lDDi_b-0ekvk",
        "outputId": "a70bb18c-fe38-4a90-e4bc-ecf8369b131c"
      },
      "execution_count": 3,
      "outputs": [
        {
          "output_type": "stream",
          "name": "stdout",
          "text": [
            "/usr/local/lib/python3.9/dist-packages/gdown/cli.py:127: FutureWarning: Option `--id` was deprecated in version 4.3.1 and will be removed in 5.0. You don't need to pass it anymore to use a file ID.\n",
            "  warnings.warn(\n",
            "Downloading...\n",
            "From: https://drive.google.com/uc?id=1WU9cQsimKxYj1i64yD88EudCRAcj57o2\n",
            "To: /content/folder2.rar\n",
            "100% 5.67k/5.67k [00:00<00:00, 9.09MB/s]\n"
          ]
        }
      ]
    },
    {
      "cell_type": "code",
      "source": [
        "\n",
        "\n",
        "!unrar x -r folder2.rar\n",
        "     \n"
      ],
      "metadata": {
        "colab": {
          "base_uri": "https://localhost:8080/"
        },
        "id": "8qTbaYkdfDOd",
        "outputId": "44b0cd6e-1115-425a-8f67-f953b50cf3a2"
      },
      "execution_count": 4,
      "outputs": [
        {
          "output_type": "stream",
          "name": "stdout",
          "text": [
            "\n",
            "UNRAR 5.61 beta 1 freeware      Copyright (c) 1993-2018 Alexander Roshal\n",
            "\n",
            "\n",
            "Extracting from folder2.rar\n",
            "\n",
            "Creating    folder2                                                   OK\n",
            "Creating    folder2/Folder01                                          OK\n",
            "Creating    folder2/Folder01/Subfolder01                              OK\n",
            "Extracting  folder2/Folder01/Subfolder01/shebang.py                      \b\b\b\b  4%\b\b\b\b\b  OK \n",
            "Creating    folder2/Folder01/Subfolder02                              OK\n",
            "Extracting  folder2/Folder01/Subfolder02/shebang.py                      \b\b\b\b  9%\b\b\b\b\b  OK \n",
            "Creating    folder2/Folder01/Subfolder03                              OK\n",
            "Extracting  folder2/Folder01/Subfolder03/shebang.py                      \b\b\b\b 15%\b\b\b\b\b  OK \n",
            "Creating    folder2/Folder02                                          OK\n",
            "Creating    folder2/Folder02/Subfolder01                              OK\n",
            "Extracting  folder2/Folder02/Subfolder01/no shebang.py                   \b\b\b\b 20%\b\b\b\b\b  OK \n",
            "Creating    folder2/Folder02/Subfolder02                              OK\n",
            "Extracting  folder2/Folder02/Subfolder02/no shebang.py                   \b\b\b\b 25%\b\b\b\b\b  OK \n",
            "Creating    folder2/Folder02/Subfolder03                              OK\n",
            "Extracting  folder2/Folder02/Subfolder03/no shebang.py                   \b\b\b\b 30%\b\b\b\b\b  OK \n",
            "Creating    folder2/Folder03                                          OK\n",
            "Creating    folder2/Folder03/Subfolder01                              OK\n",
            "Extracting  folder2/Folder03/Subfolder01/shebang.py                      \b\b\b\b 35%\b\b\b\b\b  OK \n",
            "Creating    folder2/Folder03/Subfolder02                              OK\n",
            "Extracting  folder2/Folder03/Subfolder02/shebang.py                      \b\b\b\b 41%\b\b\b\b\b  OK \n",
            "Creating    folder2/Folder03/Subfolder03                              OK\n",
            "Extracting  folder2/Folder03/Subfolder03/shebang.py                      \b\b\b\b 46%\b\b\b\b\b  OK \n",
            "Creating    folder2/Folder04                                          OK\n",
            "Creating    folder2/Folder04/Subfolder01                              OK\n",
            "Extracting  folder2/Folder04/Subfolder01/no shebang.py                   \b\b\b\b 51%\b\b\b\b\b  OK \n",
            "Creating    folder2/Folder04/Subfolder02                              OK\n",
            "Extracting  folder2/Folder04/Subfolder02/no shebang.py                   \b\b\b\b 56%\b\b\b\b\b  OK \n",
            "Creating    folder2/Folder04/Subfolder03                              OK\n",
            "Extracting  folder2/Folder04/Subfolder03/no shebang.py                   \b\b\b\b 62%\b\b\b\b\b  OK \n",
            "Creating    folder2/Folder05                                          OK\n",
            "Creating    folder2/Folder05/Subfolder01                              OK\n",
            "Extracting  folder2/Folder05/Subfolder01/shebang.py                      \b\b\b\b 67%\b\b\b\b\b  OK \n",
            "Creating    folder2/Folder05/Subfolder02                              OK\n",
            "Extracting  folder2/Folder05/Subfolder02/shebang.py                      \b\b\b\b 72%\b\b\b\b\b  OK \n",
            "Creating    folder2/Folder05/Subfolder03                              OK\n",
            "Extracting  folder2/Folder05/Subfolder03/shebang.py                      \b\b\b\b 78%\b\b\b\b\b  OK \n",
            "All OK\n"
          ]
        }
      ]
    },
    {
      "cell_type": "code",
      "source": [
        "script_files = {}\n",
        "for dir_path, dir_names, file_names in os.walk('/content/folder2/'):\n",
        "    for filename in file_names:\n",
        "        if filename.endswith('.py') or filename.endswith('.sh'):\n",
        "            filepath = os.path.join(dir_path, filename) # construct the full file path\n",
        "            with open(filepath, 'r') as file:\n",
        "                first_line = file.readline() #read the first line into a variable called first_line.\n",
        "            if first_line.startswith('#!'):\n",
        "                interpreter = first_line[2:] #remove the first characters (#!) extract the shebang interpreter \n",
        "                if interpreter in script_files:\n",
        "                    script_files[interpreter] += 1\n",
        "                else:\n",
        "                    script_files[interpreter] = 1\n",
        "\n"
      ],
      "metadata": {
        "id": "80yhpgiVcWUY"
      },
      "execution_count": 19,
      "outputs": []
    },
    {
      "cell_type": "code",
      "source": [
        "print(\"shebang interpreter:\")\n",
        "for interpreter, count in script_files.items():\n",
        "    print(f\"{count}: {interpreter}\")"
      ],
      "metadata": {
        "colab": {
          "base_uri": "https://localhost:8080/"
        },
        "id": "5janMH3-iRqn",
        "outputId": "c8a72604-41aa-44fb-f456-ed4707e10c6b"
      },
      "execution_count": 20,
      "outputs": [
        {
          "output_type": "stream",
          "name": "stdout",
          "text": [
            "shebang interpreter:\n"
          ]
        }
      ]
    }
  ]
}
